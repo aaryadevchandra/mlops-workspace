{
  "cells": [
    {
      "cell_type": "code",
      "source": [
        "!pip install optuna"
      ],
      "metadata": {
        "colab": {
          "base_uri": "https://localhost:8080/"
        },
        "id": "YsOZuvk-W-kO",
        "outputId": "e2e81619-8fb7-46ad-a50b-82271354e6da"
      },
      "id": "YsOZuvk-W-kO",
      "execution_count": 1,
      "outputs": [
        {
          "output_type": "stream",
          "name": "stdout",
          "text": [
            "Collecting optuna\n",
            "  Downloading optuna-3.6.1-py3-none-any.whl (380 kB)\n",
            "\u001b[2K     \u001b[90m━━━━━━━━━━━━━━━━━━━━━━━━━━━━━━━━━━━━━━━━\u001b[0m \u001b[32m380.1/380.1 kB\u001b[0m \u001b[31m2.6 MB/s\u001b[0m eta \u001b[36m0:00:00\u001b[0m\n",
            "\u001b[?25hCollecting alembic>=1.5.0 (from optuna)\n",
            "  Downloading alembic-1.13.2-py3-none-any.whl (232 kB)\n",
            "\u001b[2K     \u001b[90m━━━━━━━━━━━━━━━━━━━━━━━━━━━━━━━━━━━━━━━━\u001b[0m \u001b[32m233.0/233.0 kB\u001b[0m \u001b[31m11.6 MB/s\u001b[0m eta \u001b[36m0:00:00\u001b[0m\n",
            "\u001b[?25hCollecting colorlog (from optuna)\n",
            "  Downloading colorlog-6.8.2-py3-none-any.whl (11 kB)\n",
            "Requirement already satisfied: numpy in /usr/local/lib/python3.10/dist-packages (from optuna) (1.25.2)\n",
            "Requirement already satisfied: packaging>=20.0 in /usr/local/lib/python3.10/dist-packages (from optuna) (24.1)\n",
            "Collecting sqlalchemy>=1.3.0 (from optuna)\n",
            "  Downloading SQLAlchemy-2.0.31-cp310-cp310-manylinux_2_17_x86_64.manylinux2014_x86_64.whl (3.1 MB)\n",
            "\u001b[2K     \u001b[90m━━━━━━━━━━━━━━━━━━━━━━━━━━━━━━━━━━━━━━━━\u001b[0m \u001b[32m3.1/3.1 MB\u001b[0m \u001b[31m10.7 MB/s\u001b[0m eta \u001b[36m0:00:00\u001b[0m\n",
            "\u001b[?25hRequirement already satisfied: tqdm in /usr/local/lib/python3.10/dist-packages (from optuna) (4.66.4)\n",
            "Requirement already satisfied: PyYAML in /usr/local/lib/python3.10/dist-packages (from optuna) (6.0.1)\n",
            "Collecting Mako (from alembic>=1.5.0->optuna)\n",
            "  Downloading Mako-1.3.5-py3-none-any.whl (78 kB)\n",
            "\u001b[2K     \u001b[90m━━━━━━━━━━━━━━━━━━━━━━━━━━━━━━━━━━━━━━━━\u001b[0m \u001b[32m78.6/78.6 kB\u001b[0m \u001b[31m4.7 MB/s\u001b[0m eta \u001b[36m0:00:00\u001b[0m\n",
            "\u001b[?25hRequirement already satisfied: typing-extensions>=4 in /usr/local/lib/python3.10/dist-packages (from alembic>=1.5.0->optuna) (4.12.2)\n",
            "Collecting greenlet!=0.4.17 (from sqlalchemy>=1.3.0->optuna)\n",
            "  Downloading greenlet-3.0.3-cp310-cp310-manylinux_2_24_x86_64.manylinux_2_28_x86_64.whl (616 kB)\n",
            "\u001b[2K     \u001b[90m━━━━━━━━━━━━━━━━━━━━━━━━━━━━━━━━━━━━━━━━\u001b[0m \u001b[32m616.0/616.0 kB\u001b[0m \u001b[31m9.9 MB/s\u001b[0m eta \u001b[36m0:00:00\u001b[0m\n",
            "\u001b[?25hRequirement already satisfied: MarkupSafe>=0.9.2 in /usr/local/lib/python3.10/dist-packages (from Mako->alembic>=1.5.0->optuna) (2.1.5)\n",
            "Installing collected packages: Mako, greenlet, colorlog, sqlalchemy, alembic, optuna\n",
            "Successfully installed Mako-1.3.5 alembic-1.13.2 colorlog-6.8.2 greenlet-3.0.3 optuna-3.6.1 sqlalchemy-2.0.31\n"
          ]
        }
      ]
    },
    {
      "cell_type": "code",
      "execution_count": 56,
      "id": "9a004868-53d2-4b39-96bb-ee4ad97f9e5e",
      "metadata": {
        "id": "9a004868-53d2-4b39-96bb-ee4ad97f9e5e"
      },
      "outputs": [],
      "source": [
        "import torch\n",
        "from torch import nn\n",
        "import numpy as np\n",
        "import pandas as pd\n",
        "import glob\n",
        "import matplotlib.pyplot as plt\n",
        "import cv2\n",
        "import optuna"
      ]
    },
    {
      "cell_type": "code",
      "source": [
        "# prompt: drive\n",
        "\n",
        "from google.colab import drive\n",
        "drive.mount('/content/drive')\n"
      ],
      "metadata": {
        "colab": {
          "base_uri": "https://localhost:8080/"
        },
        "id": "M1fWGG3XXTkl",
        "outputId": "63bac8d9-506c-4415-e7d1-23aa3c5b3c69"
      },
      "id": "M1fWGG3XXTkl",
      "execution_count": 57,
      "outputs": [
        {
          "output_type": "stream",
          "name": "stdout",
          "text": [
            "Drive already mounted at /content/drive; to attempt to forcibly remount, call drive.mount(\"/content/drive\", force_remount=True).\n"
          ]
        }
      ]
    },
    {
      "cell_type": "code",
      "source": [
        "# !unzip -q '/content/drive/MyDrive/learning machine learning/rice.zip'"
      ],
      "metadata": {
        "id": "peOojhxEXljJ"
      },
      "id": "peOojhxEXljJ",
      "execution_count": 58,
      "outputs": []
    },
    {
      "cell_type": "code",
      "execution_count": 59,
      "id": "4eb9c93d-6912-4359-9ab9-2d64bb5d485b",
      "metadata": {
        "id": "4eb9c93d-6912-4359-9ab9-2d64bb5d485b"
      },
      "outputs": [],
      "source": [
        "class_wise_img_paths = glob.glob('/content/rice/*')"
      ]
    },
    {
      "cell_type": "code",
      "source": [
        "class_wise_img_paths"
      ],
      "metadata": {
        "colab": {
          "base_uri": "https://localhost:8080/"
        },
        "id": "MBd9tg-YX0PY",
        "outputId": "e6699ba1-98ee-40d9-d11f-4ea5c7734e35"
      },
      "id": "MBd9tg-YX0PY",
      "execution_count": 60,
      "outputs": [
        {
          "output_type": "execute_result",
          "data": {
            "text/plain": [
              "['/content/rice/Karacadag',\n",
              " '/content/rice/Basmati',\n",
              " '/content/rice/Arborio',\n",
              " '/content/rice/Jasmine',\n",
              " '/content/rice/Ipsala']"
            ]
          },
          "metadata": {},
          "execution_count": 60
        }
      ]
    },
    {
      "cell_type": "code",
      "execution_count": 61,
      "id": "ac8f0c96-21f2-4d10-8d77-ffb2b669fdaa",
      "metadata": {
        "id": "ac8f0c96-21f2-4d10-8d77-ffb2b669fdaa"
      },
      "outputs": [],
      "source": [
        "imgs_tensor = []\n",
        "labels_tensor = []\n",
        "curr_label = -1\n",
        "for class_wise_path in class_wise_img_paths:\n",
        "    curr_label += 1\n",
        "    class_wise_image_paths = glob.glob(f'{class_wise_path}/*')\n",
        "    for img_path in class_wise_image_paths[:1000]:\n",
        "        img = cv2.imread(img_path)\n",
        "        img = cv2.resize(img, (224, 224))\n",
        "        imgs_tensor.append(torch.from_numpy(img))\n",
        "        labels_tensor.append(torch.tensor(curr_label))"
      ]
    },
    {
      "cell_type": "code",
      "execution_count": 61,
      "id": "dc204166-dd81-4da4-8268-79641530a734",
      "metadata": {
        "id": "dc204166-dd81-4da4-8268-79641530a734"
      },
      "outputs": [],
      "source": []
    },
    {
      "cell_type": "code",
      "execution_count": 62,
      "id": "e8d27764-3494-4372-bdb0-2dc781c18e26",
      "metadata": {
        "id": "e8d27764-3494-4372-bdb0-2dc781c18e26"
      },
      "outputs": [],
      "source": [
        "imgs_tensor = torch.stack(imgs_tensor)"
      ]
    },
    {
      "cell_type": "code",
      "execution_count": 63,
      "id": "4f9763df-fcbc-40f7-b430-2935720608fe",
      "metadata": {
        "id": "4f9763df-fcbc-40f7-b430-2935720608fe"
      },
      "outputs": [],
      "source": [
        "imgs_tensor = imgs_tensor.reshape(-1, 3, 224, 224)"
      ]
    },
    {
      "cell_type": "code",
      "execution_count": 64,
      "id": "ed7b5c88-498b-4b1d-bb11-158e5ea82cf3",
      "metadata": {
        "colab": {
          "base_uri": "https://localhost:8080/"
        },
        "id": "ed7b5c88-498b-4b1d-bb11-158e5ea82cf3",
        "outputId": "193a3097-a75f-4da6-db97-7ab25121db29"
      },
      "outputs": [
        {
          "output_type": "execute_result",
          "data": {
            "text/plain": [
              "torch.Size([5000, 3, 224, 224])"
            ]
          },
          "metadata": {},
          "execution_count": 64
        }
      ],
      "source": [
        "imgs_tensor.shape"
      ]
    },
    {
      "cell_type": "code",
      "execution_count": 65,
      "id": "f4d67317-7bca-4a3b-b5bc-ea9a0525615a",
      "metadata": {
        "id": "f4d67317-7bca-4a3b-b5bc-ea9a0525615a"
      },
      "outputs": [],
      "source": [
        "labels_tensor = torch.stack(labels_tensor)"
      ]
    },
    {
      "cell_type": "code",
      "execution_count": 65,
      "id": "299f0bf0-0bfe-448c-9ae4-ad5cedf18f9d",
      "metadata": {
        "id": "299f0bf0-0bfe-448c-9ae4-ad5cedf18f9d"
      },
      "outputs": [],
      "source": []
    },
    {
      "cell_type": "code",
      "execution_count": 66,
      "id": "85f75bcb-34a3-400d-aa4a-f1067d044f2a",
      "metadata": {
        "id": "85f75bcb-34a3-400d-aa4a-f1067d044f2a"
      },
      "outputs": [],
      "source": [
        "class PomodoroClassifierNetwork(nn.Module):\n",
        "\n",
        "    def __init__(self, num_classes):\n",
        "        super(PomodoroClassifierNetwork, self).__init__()\n",
        "        self.conv_net = nn.Sequential(\n",
        "            nn.Conv2d(in_channels=3, out_channels=8, kernel_size=3, stride=2, padding=1),\n",
        "            nn.MaxPool2d(kernel_size=3, stride=2, padding=1),\n",
        "            nn.LeakyReLU(),\n",
        "            nn.Conv2d(in_channels=8, out_channels=16, kernel_size=3, stride=2, padding=1),\n",
        "            nn.MaxPool2d(kernel_size=3, stride=2, padding=1),\n",
        "            nn.LeakyReLU()\n",
        "        )\n",
        "        self.fc = nn.Sequential(\n",
        "            nn.Linear(in_features=3136, out_features=1024),\n",
        "            nn.LeakyReLU(),\n",
        "            nn.Linear(in_features=1024, out_features=512),\n",
        "            nn.LeakyReLU(),\n",
        "            nn.Linear(in_features=512, out_features=256),\n",
        "            nn.LeakyReLU(),\n",
        "            nn.Linear(in_features=256, out_features=128),\n",
        "            nn.LeakyReLU(),\n",
        "            nn.Linear(in_features=128, out_features=64),\n",
        "            nn.LeakyReLU(),\n",
        "            nn.Linear(in_features=64, out_features=num_classes),\n",
        "            nn.Softmax(dim=-1),\n",
        "        )\n",
        "\n",
        "    def forward(self, x):\n",
        "        batch_size = x.shape[0]\n",
        "        # print(x.shape)\n",
        "        x = self.conv_net(x)\n",
        "        x = self.fc(x.view(batch_size, -1))\n",
        "        # print(x.shape)\n",
        "        return x"
      ]
    },
    {
      "cell_type": "code",
      "execution_count": 67,
      "id": "0f29c944-95c9-4b69-a30b-f257f410793e",
      "metadata": {
        "id": "0f29c944-95c9-4b69-a30b-f257f410793e"
      },
      "outputs": [],
      "source": [
        "pcn = PomodoroClassifierNetwork(num_classes=5)"
      ]
    },
    {
      "cell_type": "code",
      "execution_count": 68,
      "id": "2f741b27-2c94-40e0-a5b8-f4dddd6bef51",
      "metadata": {
        "id": "2f741b27-2c94-40e0-a5b8-f4dddd6bef51"
      },
      "outputs": [],
      "source": [
        "# experiment_name = \"pomodoro_classification\"\n",
        "# if mlflow.get_experiment_by_name(experiment_name) == None:\n",
        "#     mlflow.create_experiment(experiment_name)\n",
        "# else:\n",
        "#     mlflow.set_experiment(experiment_name)"
      ]
    },
    {
      "cell_type": "code",
      "execution_count": 71,
      "id": "012f3aa5-7c77-4c52-a8c9-03a94133dcbd",
      "metadata": {
        "id": "012f3aa5-7c77-4c52-a8c9-03a94133dcbd"
      },
      "outputs": [],
      "source": [
        "\n",
        "# with mlflow.start_run() as run:\n",
        "\n",
        "def objective(trial: optuna.Trial):\n",
        "    lr = trial.suggest_float('lr', 1e-4, 5e-4)\n",
        "    weight_decay = trial.suggest_float('weight_decay', 1e-5, 1e-4)\n",
        "\n",
        "\n",
        "    loss_fn = nn.CrossEntropyLoss()\n",
        "    optimizer = torch.optim.Adam(pcn.parameters(), lr=lr, weight_decay=weight_decay)\n",
        "    loss = loss_fn(pcn(imgs_tensor.float()), labels_tensor)\n",
        "    return loss"
      ]
    },
    {
      "cell_type": "code",
      "execution_count": 72,
      "id": "67613a77-dc23-4e9f-a1c8-2ea475788b2e",
      "metadata": {
        "colab": {
          "base_uri": "https://localhost:8080/"
        },
        "id": "67613a77-dc23-4e9f-a1c8-2ea475788b2e",
        "outputId": "c32d250f-b4d4-4933-ff82-7bccbf0b62e8"
      },
      "outputs": [
        {
          "output_type": "stream",
          "name": "stderr",
          "text": [
            "[I 2024-07-23 07:19:11,766] A new study created in memory with name: no-name-4dc9fbb9-9928-447b-bee7-74d52762b3a1\n",
            "[I 2024-07-23 07:19:13,015] Trial 0 finished with value: 1.6096606254577637 and parameters: {'lr': 0.0004276435057690889, 'weight_decay': 4.0454792288467305e-05}. Best is trial 0 with value: 1.6096606254577637.\n",
            "[I 2024-07-23 07:19:14,674] Trial 1 finished with value: 1.6096606254577637 and parameters: {'lr': 0.00011709515088963664, 'weight_decay': 6.966750848689825e-05}. Best is trial 0 with value: 1.6096606254577637.\n",
            "[I 2024-07-23 07:19:16,332] Trial 2 finished with value: 1.6096606254577637 and parameters: {'lr': 0.0004850092342922968, 'weight_decay': 7.782781788059048e-05}. Best is trial 0 with value: 1.6096606254577637.\n",
            "[I 2024-07-23 07:19:17,924] Trial 3 finished with value: 1.6096606254577637 and parameters: {'lr': 0.0002260167360938268, 'weight_decay': 2.237095436209281e-05}. Best is trial 0 with value: 1.6096606254577637.\n",
            "[I 2024-07-23 07:19:19,608] Trial 4 finished with value: 1.6096606254577637 and parameters: {'lr': 0.00019628919361727119, 'weight_decay': 3.409075939405529e-05}. Best is trial 0 with value: 1.6096606254577637.\n",
            "[I 2024-07-23 07:19:21,333] Trial 5 finished with value: 1.6096606254577637 and parameters: {'lr': 0.00019851813656182404, 'weight_decay': 2.1326947008957213e-05}. Best is trial 0 with value: 1.6096606254577637.\n",
            "[I 2024-07-23 07:19:23,114] Trial 6 finished with value: 1.6096606254577637 and parameters: {'lr': 0.00044889342724961775, 'weight_decay': 7.642518972937213e-05}. Best is trial 0 with value: 1.6096606254577637.\n",
            "[I 2024-07-23 07:19:24,840] Trial 7 finished with value: 1.6096606254577637 and parameters: {'lr': 0.0002696431195807748, 'weight_decay': 9.215903189769596e-05}. Best is trial 0 with value: 1.6096606254577637.\n",
            "[I 2024-07-23 07:19:26,508] Trial 8 finished with value: 1.6096606254577637 and parameters: {'lr': 0.00018522651110156177, 'weight_decay': 9.210023914039843e-05}. Best is trial 0 with value: 1.6096606254577637.\n",
            "[I 2024-07-23 07:19:28,117] Trial 9 finished with value: 1.6096606254577637 and parameters: {'lr': 0.00013626967630258458, 'weight_decay': 2.3399764813122418e-05}. Best is trial 0 with value: 1.6096606254577637.\n",
            "[I 2024-07-23 07:19:29,560] Trial 10 finished with value: 1.6096606254577637 and parameters: {'lr': 0.00037443070916035075, 'weight_decay': 4.808632047898775e-05}. Best is trial 0 with value: 1.6096606254577637.\n",
            "[I 2024-07-23 07:19:31,242] Trial 11 finished with value: 1.6096606254577637 and parameters: {'lr': 0.00034854972197445746, 'weight_decay': 5.7720742752836954e-05}. Best is trial 0 with value: 1.6096606254577637.\n",
            "[I 2024-07-23 07:19:32,871] Trial 12 finished with value: 1.6096606254577637 and parameters: {'lr': 0.00010764001104730288, 'weight_decay': 5.3200935843737965e-05}. Best is trial 0 with value: 1.6096606254577637.\n",
            "[I 2024-07-23 07:19:34,600] Trial 13 finished with value: 1.6096606254577637 and parameters: {'lr': 0.00040337248836961877, 'weight_decay': 6.596907793199817e-05}. Best is trial 0 with value: 1.6096606254577637.\n",
            "[I 2024-07-23 07:19:36,375] Trial 14 finished with value: 1.6096606254577637 and parameters: {'lr': 0.0003112017126508027, 'weight_decay': 4.053122231963396e-05}. Best is trial 0 with value: 1.6096606254577637.\n",
            "[I 2024-07-23 07:19:38,040] Trial 15 finished with value: 1.6096606254577637 and parameters: {'lr': 0.0004254436783773243, 'weight_decay': 6.826797923763066e-05}. Best is trial 0 with value: 1.6096606254577637.\n",
            "[I 2024-07-23 07:19:39,671] Trial 16 finished with value: 1.6096606254577637 and parameters: {'lr': 0.0002900351669744585, 'weight_decay': 1.2012223653819117e-05}. Best is trial 0 with value: 1.6096606254577637.\n",
            "[I 2024-07-23 07:19:41,288] Trial 17 finished with value: 1.6096606254577637 and parameters: {'lr': 0.0004954814943068712, 'weight_decay': 3.955046884587804e-05}. Best is trial 0 with value: 1.6096606254577637.\n",
            "[I 2024-07-23 07:19:42,903] Trial 18 finished with value: 1.6096606254577637 and parameters: {'lr': 0.00034545465004034304, 'weight_decay': 6.318212667247907e-05}. Best is trial 0 with value: 1.6096606254577637.\n",
            "[I 2024-07-23 07:19:44,509] Trial 19 finished with value: 1.6096606254577637 and parameters: {'lr': 0.0002588016312062736, 'weight_decay': 8.555699847826419e-05}. Best is trial 0 with value: 1.6096606254577637.\n",
            "[I 2024-07-23 07:19:46,136] Trial 20 finished with value: 1.6096606254577637 and parameters: {'lr': 0.00015283618577539355, 'weight_decay': 4.803099627051368e-05}. Best is trial 0 with value: 1.6096606254577637.\n",
            "[I 2024-07-23 07:19:47,866] Trial 21 finished with value: 1.6096606254577637 and parameters: {'lr': 0.0004819889733368404, 'weight_decay': 7.648470854473731e-05}. Best is trial 0 with value: 1.6096606254577637.\n",
            "[I 2024-07-23 07:19:49,596] Trial 22 finished with value: 1.6096606254577637 and parameters: {'lr': 0.00046108017512937487, 'weight_decay': 7.752270745820098e-05}. Best is trial 0 with value: 1.6096606254577637.\n",
            "[I 2024-07-23 07:19:51,311] Trial 23 finished with value: 1.6096606254577637 and parameters: {'lr': 0.00040124716804482076, 'weight_decay': 8.445891407644844e-05}. Best is trial 0 with value: 1.6096606254577637.\n",
            "[I 2024-07-23 07:19:52,723] Trial 24 finished with value: 1.6096606254577637 and parameters: {'lr': 0.0004413358658492546, 'weight_decay': 9.997766452097485e-05}. Best is trial 0 with value: 1.6096606254577637.\n",
            "[I 2024-07-23 07:19:54,517] Trial 25 finished with value: 1.6096606254577637 and parameters: {'lr': 0.00047510031913216525, 'weight_decay': 7.294212039130808e-05}. Best is trial 0 with value: 1.6096606254577637.\n",
            "[I 2024-07-23 07:19:56,185] Trial 26 finished with value: 1.6096606254577637 and parameters: {'lr': 0.0004091250140948671, 'weight_decay': 6.063632022460239e-05}. Best is trial 0 with value: 1.6096606254577637.\n",
            "[I 2024-07-23 07:19:57,831] Trial 27 finished with value: 1.6096606254577637 and parameters: {'lr': 0.0004997659506950003, 'weight_decay': 5.450941965821729e-05}. Best is trial 0 with value: 1.6096606254577637.\n",
            "[I 2024-07-23 07:19:59,441] Trial 28 finished with value: 1.6096606254577637 and parameters: {'lr': 0.0003310856011126356, 'weight_decay': 3.478458921765321e-05}. Best is trial 0 with value: 1.6096606254577637.\n",
            "[I 2024-07-23 07:20:01,191] Trial 29 finished with value: 1.6096606254577637 and parameters: {'lr': 0.00022994031696356597, 'weight_decay': 6.890491306693745e-05}. Best is trial 0 with value: 1.6096606254577637.\n",
            "[I 2024-07-23 07:20:02,938] Trial 30 finished with value: 1.6096606254577637 and parameters: {'lr': 0.0003737924697063447, 'weight_decay': 8.326963255812856e-05}. Best is trial 0 with value: 1.6096606254577637.\n",
            "[I 2024-07-23 07:20:04,645] Trial 31 finished with value: 1.6096606254577637 and parameters: {'lr': 0.00021862982805683986, 'weight_decay': 2.14582325817732e-05}. Best is trial 0 with value: 1.6096606254577637.\n",
            "[I 2024-07-23 07:20:06,336] Trial 32 finished with value: 1.6096606254577637 and parameters: {'lr': 0.00016600149842337607, 'weight_decay': 2.788947404416064e-05}. Best is trial 0 with value: 1.6096606254577637.\n",
            "[I 2024-07-23 07:20:08,050] Trial 33 finished with value: 1.6096606254577637 and parameters: {'lr': 0.00010448088281303673, 'weight_decay': 1.4590892463032588e-05}. Best is trial 0 with value: 1.6096606254577637.\n",
            "[I 2024-07-23 07:20:09,727] Trial 34 finished with value: 1.6096606254577637 and parameters: {'lr': 0.00025396223640795446, 'weight_decay': 2.9954083570565356e-05}. Best is trial 0 with value: 1.6096606254577637.\n",
            "[I 2024-07-23 07:20:11,397] Trial 35 finished with value: 1.6096606254577637 and parameters: {'lr': 0.0001981230140879332, 'weight_decay': 4.566972342861173e-05}. Best is trial 0 with value: 1.6096606254577637.\n",
            "[I 2024-07-23 07:20:13,127] Trial 36 finished with value: 1.6096606254577637 and parameters: {'lr': 0.00023629084686105473, 'weight_decay': 3.5547179894116487e-05}. Best is trial 0 with value: 1.6096606254577637.\n",
            "[I 2024-07-23 07:20:14,858] Trial 37 finished with value: 1.6096606254577637 and parameters: {'lr': 0.0002874915324860168, 'weight_decay': 1.5867498830672856e-05}. Best is trial 0 with value: 1.6096606254577637.\n",
            "[I 2024-07-23 07:20:16,578] Trial 38 finished with value: 1.6096606254577637 and parameters: {'lr': 0.00017428653809946785, 'weight_decay': 2.87832550600987e-05}. Best is trial 0 with value: 1.6096606254577637.\n",
            "[I 2024-07-23 07:20:18,300] Trial 39 finished with value: 1.6096606254577637 and parameters: {'lr': 0.00013161524931850464, 'weight_decay': 7.20243815739006e-05}. Best is trial 0 with value: 1.6096606254577637.\n",
            "[I 2024-07-23 07:20:20,008] Trial 40 finished with value: 1.6096606254577637 and parameters: {'lr': 0.0004477727907967611, 'weight_decay': 4.267864100966141e-05}. Best is trial 0 with value: 1.6096606254577637.\n",
            "[I 2024-07-23 07:20:21,718] Trial 41 finished with value: 1.6096606254577637 and parameters: {'lr': 0.0002051821972088245, 'weight_decay': 1.8181756280782476e-05}. Best is trial 0 with value: 1.6096606254577637.\n",
            "[I 2024-07-23 07:20:23,420] Trial 42 finished with value: 1.6096606254577637 and parameters: {'lr': 0.00013322788481848224, 'weight_decay': 3.6147601099056284e-05}. Best is trial 0 with value: 1.6096606254577637.\n",
            "[I 2024-07-23 07:20:25,135] Trial 43 finished with value: 1.6096606254577637 and parameters: {'lr': 0.0001901275617711178, 'weight_decay': 2.5603468132940783e-05}. Best is trial 0 with value: 1.6096606254577637.\n",
            "[I 2024-07-23 07:20:26,874] Trial 44 finished with value: 1.6096606254577637 and parameters: {'lr': 0.0001169654757040534, 'weight_decay': 5.041050640187253e-05}. Best is trial 0 with value: 1.6096606254577637.\n",
            "[I 2024-07-23 07:20:28,603] Trial 45 finished with value: 1.6096606254577637 and parameters: {'lr': 0.0001685625694960338, 'weight_decay': 5.754573613590412e-05}. Best is trial 0 with value: 1.6096606254577637.\n",
            "[I 2024-07-23 07:20:30,280] Trial 46 finished with value: 1.6096606254577637 and parameters: {'lr': 0.0003158020055037704, 'weight_decay': 3.259322393552267e-05}. Best is trial 0 with value: 1.6096606254577637.\n",
            "[I 2024-07-23 07:20:31,958] Trial 47 finished with value: 1.6096606254577637 and parameters: {'lr': 0.00014672930012603994, 'weight_decay': 9.170533179407487e-05}. Best is trial 0 with value: 1.6096606254577637.\n",
            "[I 2024-07-23 07:20:33,653] Trial 48 finished with value: 1.6096606254577637 and parameters: {'lr': 0.0003757765949346278, 'weight_decay': 8.010268019825753e-05}. Best is trial 0 with value: 1.6096606254577637.\n",
            "[I 2024-07-23 07:20:35,360] Trial 49 finished with value: 1.6096606254577637 and parameters: {'lr': 0.00025059207709627197, 'weight_decay': 1.0044613394930439e-05}. Best is trial 0 with value: 1.6096606254577637.\n",
            "[I 2024-07-23 07:20:37,054] Trial 50 finished with value: 1.6096606254577637 and parameters: {'lr': 0.00046620327045478394, 'weight_decay': 2.3561167539938645e-05}. Best is trial 0 with value: 1.6096606254577637.\n",
            "[I 2024-07-23 07:20:38,760] Trial 51 finished with value: 1.6096606254577637 and parameters: {'lr': 0.000276971454221102, 'weight_decay': 2.095383003894017e-05}. Best is trial 0 with value: 1.6096606254577637.\n",
            "[I 2024-07-23 07:20:40,481] Trial 52 finished with value: 1.6096606254577637 and parameters: {'lr': 0.00020465449659999504, 'weight_decay': 3.7849934407566075e-05}. Best is trial 0 with value: 1.6096606254577637.\n",
            "[I 2024-07-23 07:20:42,212] Trial 53 finished with value: 1.6096606254577637 and parameters: {'lr': 0.00021821594065135622, 'weight_decay': 4.288440782499725e-05}. Best is trial 0 with value: 1.6096606254577637.\n",
            "[I 2024-07-23 07:20:43,930] Trial 54 finished with value: 1.6096606254577637 and parameters: {'lr': 0.00018469680267620467, 'weight_decay': 3.162710372992024e-05}. Best is trial 0 with value: 1.6096606254577637.\n",
            "[I 2024-07-23 07:20:45,630] Trial 55 finished with value: 1.6096606254577637 and parameters: {'lr': 0.0004235374735400299, 'weight_decay': 2.5549690458780203e-05}. Best is trial 0 with value: 1.6096606254577637.\n",
            "[I 2024-07-23 07:20:47,330] Trial 56 finished with value: 1.6096606254577637 and parameters: {'lr': 0.00014735398392696955, 'weight_decay': 8.943593637946659e-05}. Best is trial 0 with value: 1.6096606254577637.\n",
            "[I 2024-07-23 07:20:49,027] Trial 57 finished with value: 1.6096606254577637 and parameters: {'lr': 0.00024307895732228588, 'weight_decay': 1.790061433600311e-05}. Best is trial 0 with value: 1.6096606254577637.\n",
            "[I 2024-07-23 07:20:50,713] Trial 58 finished with value: 1.6096606254577637 and parameters: {'lr': 0.0001224662293685192, 'weight_decay': 6.455384311697981e-05}. Best is trial 0 with value: 1.6096606254577637.\n",
            "[I 2024-07-23 07:20:52,378] Trial 59 finished with value: 1.6096606254577637 and parameters: {'lr': 0.00015794727410610394, 'weight_decay': 7.099644488398505e-05}. Best is trial 0 with value: 1.6096606254577637.\n",
            "[I 2024-07-23 07:20:54,111] Trial 60 finished with value: 1.6096606254577637 and parameters: {'lr': 0.00048570849754806856, 'weight_decay': 5.901324862307922e-05}. Best is trial 0 with value: 1.6096606254577637.\n",
            "[I 2024-07-23 07:20:55,831] Trial 61 finished with value: 1.6096606254577637 and parameters: {'lr': 0.00043451864409009653, 'weight_decay': 7.501985501914615e-05}. Best is trial 0 with value: 1.6096606254577637.\n",
            "[I 2024-07-23 07:20:57,535] Trial 62 finished with value: 1.6096606254577637 and parameters: {'lr': 0.0004601707452844906, 'weight_decay': 8.000665528494406e-05}. Best is trial 0 with value: 1.6096606254577637.\n",
            "[I 2024-07-23 07:20:59,212] Trial 63 finished with value: 1.6096606254577637 and parameters: {'lr': 0.00026699328953794205, 'weight_decay': 8.074110721105365e-05}. Best is trial 0 with value: 1.6096606254577637.\n",
            "[I 2024-07-23 07:21:00,903] Trial 64 finished with value: 1.6096606254577637 and parameters: {'lr': 0.00039556311324754885, 'weight_decay': 8.715573066624562e-05}. Best is trial 0 with value: 1.6096606254577637.\n",
            "[I 2024-07-23 07:21:02,587] Trial 65 finished with value: 1.6096606254577637 and parameters: {'lr': 0.00041906923083741927, 'weight_decay': 6.778093728445188e-05}. Best is trial 0 with value: 1.6096606254577637.\n",
            "[I 2024-07-23 07:21:04,291] Trial 66 finished with value: 1.6096606254577637 and parameters: {'lr': 0.00048210598576765677, 'weight_decay': 9.461943007547504e-05}. Best is trial 0 with value: 1.6096606254577637.\n",
            "[I 2024-07-23 07:21:06,032] Trial 67 finished with value: 1.6096606254577637 and parameters: {'lr': 0.00044614078628847723, 'weight_decay': 7.56112611562543e-05}. Best is trial 0 with value: 1.6096606254577637.\n",
            "[I 2024-07-23 07:21:07,766] Trial 68 finished with value: 1.6096606254577637 and parameters: {'lr': 0.0003070150735847584, 'weight_decay': 4.013619877759391e-05}. Best is trial 0 with value: 1.6096606254577637.\n",
            "[I 2024-07-23 07:21:09,440] Trial 69 finished with value: 1.6096606254577637 and parameters: {'lr': 0.0002152743403232888, 'weight_decay': 6.21092013459421e-05}. Best is trial 0 with value: 1.6096606254577637.\n",
            "[I 2024-07-23 07:21:11,120] Trial 70 finished with value: 1.6096606254577637 and parameters: {'lr': 0.00018323607573955458, 'weight_decay': 5.025918012992394e-05}. Best is trial 0 with value: 1.6096606254577637.\n",
            "[I 2024-07-23 07:21:12,802] Trial 71 finished with value: 1.6096606254577637 and parameters: {'lr': 0.00023199486309860887, 'weight_decay': 8.308472210627127e-05}. Best is trial 0 with value: 1.6096606254577637.\n",
            "[I 2024-07-23 07:21:14,501] Trial 72 finished with value: 1.6096606254577637 and parameters: {'lr': 0.00027714512920846035, 'weight_decay': 9.680722777515512e-05}. Best is trial 0 with value: 1.6096606254577637.\n",
            "[I 2024-07-23 07:21:16,201] Trial 73 finished with value: 1.6096606254577637 and parameters: {'lr': 0.00034452953166399234, 'weight_decay': 8.864593436005777e-05}. Best is trial 0 with value: 1.6096606254577637.\n",
            "[I 2024-07-23 07:21:17,908] Trial 74 finished with value: 1.6096606254577637 and parameters: {'lr': 0.00045699746793866124, 'weight_decay': 2.0183401908463246e-05}. Best is trial 0 with value: 1.6096606254577637.\n",
            "[I 2024-07-23 07:21:19,624] Trial 75 finished with value: 1.6096606254577637 and parameters: {'lr': 0.0002950238530317449, 'weight_decay': 2.6009803818786443e-05}. Best is trial 0 with value: 1.6096606254577637.\n",
            "[I 2024-07-23 07:21:21,342] Trial 76 finished with value: 1.6096606254577637 and parameters: {'lr': 0.000226195755300505, 'weight_decay': 1.2849734295268936e-05}. Best is trial 0 with value: 1.6096606254577637.\n",
            "[I 2024-07-23 07:21:23,023] Trial 77 finished with value: 1.6096606254577637 and parameters: {'lr': 0.0002652233450604463, 'weight_decay': 7.752033830413495e-05}. Best is trial 0 with value: 1.6096606254577637.\n",
            "[I 2024-07-23 07:21:24,712] Trial 78 finished with value: 1.6096606254577637 and parameters: {'lr': 0.0004945740105367028, 'weight_decay': 3.3055145035977106e-05}. Best is trial 0 with value: 1.6096606254577637.\n",
            "[I 2024-07-23 07:21:26,403] Trial 79 finished with value: 1.6096606254577637 and parameters: {'lr': 0.00047122859795336843, 'weight_decay': 5.580368923463585e-05}. Best is trial 0 with value: 1.6096606254577637.\n",
            "[I 2024-07-23 07:21:28,103] Trial 80 finished with value: 1.6096606254577637 and parameters: {'lr': 0.0002426939460258148, 'weight_decay': 7.023587264437666e-05}. Best is trial 0 with value: 1.6096606254577637.\n",
            "[I 2024-07-23 07:21:29,795] Trial 81 finished with value: 1.6096606254577637 and parameters: {'lr': 0.0001992071028268491, 'weight_decay': 9.311129851940114e-05}. Best is trial 0 with value: 1.6096606254577637.\n",
            "[I 2024-07-23 07:21:31,526] Trial 82 finished with value: 1.6096606254577637 and parameters: {'lr': 0.00017661248295546683, 'weight_decay': 8.466216353377014e-05}. Best is trial 0 with value: 1.6096606254577637.\n",
            "[I 2024-07-23 07:21:33,303] Trial 83 finished with value: 1.6096606254577637 and parameters: {'lr': 0.00021043538910766831, 'weight_decay': 9.870676634113564e-05}. Best is trial 0 with value: 1.6096606254577637.\n",
            "[I 2024-07-23 07:21:35,026] Trial 84 finished with value: 1.6096606254577637 and parameters: {'lr': 0.00016295502840586945, 'weight_decay': 4.479230192351289e-05}. Best is trial 0 with value: 1.6096606254577637.\n",
            "[I 2024-07-23 07:21:36,724] Trial 85 finished with value: 1.6096606254577637 and parameters: {'lr': 0.00032085165418473756, 'weight_decay': 9.063638982862823e-05}. Best is trial 0 with value: 1.6096606254577637.\n",
            "[I 2024-07-23 07:21:38,428] Trial 86 finished with value: 1.6096606254577637 and parameters: {'lr': 0.00019690737370846073, 'weight_decay': 2.3070872664568498e-05}. Best is trial 0 with value: 1.6096606254577637.\n",
            "[I 2024-07-23 07:21:40,138] Trial 87 finished with value: 1.6096606254577637 and parameters: {'lr': 0.00022489966952713033, 'weight_decay': 8.747910212920037e-05}. Best is trial 0 with value: 1.6096606254577637.\n",
            "[I 2024-07-23 07:21:41,841] Trial 88 finished with value: 1.6096606254577637 and parameters: {'lr': 0.00019058079464827257, 'weight_decay': 7.445576809291206e-05}. Best is trial 0 with value: 1.6096606254577637.\n",
            "[I 2024-07-23 07:21:43,461] Trial 89 finished with value: 1.6096606254577637 and parameters: {'lr': 0.0001412719603016891, 'weight_decay': 2.8346283308170254e-05}. Best is trial 0 with value: 1.6096606254577637.\n",
            "[I 2024-07-23 07:21:45,159] Trial 90 finished with value: 1.6096606254577637 and parameters: {'lr': 0.00038455508409561206, 'weight_decay': 6.686990813370966e-05}. Best is trial 0 with value: 1.6096606254577637.\n",
            "[I 2024-07-23 07:21:46,943] Trial 91 finished with value: 1.6096606254577637 and parameters: {'lr': 0.00012063356491635632, 'weight_decay': 1.5198868371452928e-05}. Best is trial 0 with value: 1.6096606254577637.\n",
            "[I 2024-07-23 07:21:48,657] Trial 92 finished with value: 1.6096606254577637 and parameters: {'lr': 0.00011192724922591835, 'weight_decay': 1.789826418300702e-05}. Best is trial 0 with value: 1.6096606254577637.\n",
            "[I 2024-07-23 07:21:50,359] Trial 93 finished with value: 1.6096606254577637 and parameters: {'lr': 0.00013556729185552422, 'weight_decay': 3.0866646241100284e-05}. Best is trial 0 with value: 1.6096606254577637.\n",
            "[I 2024-07-23 07:21:52,048] Trial 94 finished with value: 1.6096606254577637 and parameters: {'lr': 0.00015709998415305702, 'weight_decay': 2.281058597727785e-05}. Best is trial 0 with value: 1.6096606254577637.\n",
            "[I 2024-07-23 07:21:53,658] Trial 95 finished with value: 1.6096606254577637 and parameters: {'lr': 0.0001083952673428202, 'weight_decay': 1.9488894891656634e-05}. Best is trial 0 with value: 1.6096606254577637.\n",
            "[I 2024-07-23 07:21:55,328] Trial 96 finished with value: 1.6096606254577637 and parameters: {'lr': 0.00017885346394221999, 'weight_decay': 8.093197178522736e-05}. Best is trial 0 with value: 1.6096606254577637.\n",
            "[I 2024-07-23 07:21:57,029] Trial 97 finished with value: 1.6096606254577637 and parameters: {'lr': 0.00010038473352823942, 'weight_decay': 3.8119415287635205e-05}. Best is trial 0 with value: 1.6096606254577637.\n",
            "[I 2024-07-23 07:21:58,779] Trial 98 finished with value: 1.6096606254577637 and parameters: {'lr': 0.0004334310706783932, 'weight_decay': 9.586333181435583e-05}. Best is trial 0 with value: 1.6096606254577637.\n",
            "[I 2024-07-23 07:22:00,536] Trial 99 finished with value: 1.6096606254577637 and parameters: {'lr': 0.00017222499747302747, 'weight_decay': 2.5005477756736206e-05}. Best is trial 0 with value: 1.6096606254577637.\n"
          ]
        }
      ],
      "source": [
        "study = optuna.create_study()\n",
        "study.optimize(objective, n_trials=100)"
      ]
    },
    {
      "cell_type": "code",
      "execution_count": 73,
      "id": "8799cda9-b7aa-4fdb-b84d-f3765fe3e198",
      "metadata": {
        "id": "8799cda9-b7aa-4fdb-b84d-f3765fe3e198"
      },
      "outputs": [],
      "source": [
        "loss_fn = nn.CrossEntropyLoss()\n",
        "optimizer = torch.optim.Adam(pcn.parameters(), lr=study.best_params['lr'], weight_decay=study.best_params['weight_decay'])"
      ]
    },
    {
      "cell_type": "code",
      "source": [
        "from sklearn.model_selection import train_test_split\n",
        "X_train, X_test, y_train, y_test = train_test_split(imgs_tensor, labels_tensor, train_size=0.8, test_size=0.2)"
      ],
      "metadata": {
        "id": "TuzjmEPqc3tp"
      },
      "id": "TuzjmEPqc3tp",
      "execution_count": 74,
      "outputs": []
    },
    {
      "cell_type": "code",
      "source": [
        "epochs = 100\n",
        "\n",
        "for _ in range(epochs):\n",
        "  loss = loss_fn(pcn(X_train.float()), y_train)\n",
        "  print(f'Epoch {_ + 1} ; Loss {loss}')\n",
        "  loss.backward()\n",
        "  optimizer.step()\n",
        "  optimizer.zero_grad()"
      ],
      "metadata": {
        "colab": {
          "base_uri": "https://localhost:8080/"
        },
        "id": "9xxs1Bk9Y6F1",
        "outputId": "1451a7bb-5a74-4044-9e4f-1b56e53013b3"
      },
      "id": "9xxs1Bk9Y6F1",
      "execution_count": 75,
      "outputs": [
        {
          "output_type": "stream",
          "name": "stdout",
          "text": [
            "Epoch 1 ; Loss 1.6098121404647827\n",
            "Epoch 2 ; Loss 1.601608395576477\n",
            "Epoch 3 ; Loss 1.5840002298355103\n",
            "Epoch 4 ; Loss 1.549574375152588\n",
            "Epoch 5 ; Loss 1.5050098896026611\n",
            "Epoch 6 ; Loss 1.4567327499389648\n",
            "Epoch 7 ; Loss 1.4271376132965088\n",
            "Epoch 8 ; Loss 1.5158917903900146\n",
            "Epoch 9 ; Loss 1.3531677722930908\n",
            "Epoch 10 ; Loss 1.4285609722137451\n",
            "Epoch 11 ; Loss 1.3127375841140747\n",
            "Epoch 12 ; Loss 1.3882068395614624\n",
            "Epoch 13 ; Loss 1.2875455617904663\n",
            "Epoch 14 ; Loss 1.2610843181610107\n",
            "Epoch 15 ; Loss 1.254164457321167\n",
            "Epoch 16 ; Loss 1.2028189897537231\n",
            "Epoch 17 ; Loss 1.2050408124923706\n",
            "Epoch 18 ; Loss 1.1586530208587646\n",
            "Epoch 19 ; Loss 1.148543119430542\n",
            "Epoch 20 ; Loss 1.113083839416504\n",
            "Epoch 21 ; Loss 1.115169882774353\n",
            "Epoch 22 ; Loss 1.073821783065796\n",
            "Epoch 23 ; Loss 1.0873972177505493\n",
            "Epoch 24 ; Loss 1.0461342334747314\n",
            "Epoch 25 ; Loss 1.0556026697158813\n",
            "Epoch 26 ; Loss 1.0314600467681885\n",
            "Epoch 27 ; Loss 1.0240470170974731\n",
            "Epoch 28 ; Loss 1.0220261812210083\n",
            "Epoch 29 ; Loss 1.005500078201294\n",
            "Epoch 30 ; Loss 1.0042411088943481\n",
            "Epoch 31 ; Loss 0.9952048659324646\n",
            "Epoch 32 ; Loss 0.9905702471733093\n",
            "Epoch 33 ; Loss 0.989440381526947\n",
            "Epoch 34 ; Loss 0.9846797585487366\n",
            "Epoch 35 ; Loss 0.9796415567398071\n",
            "Epoch 36 ; Loss 0.9821771383285522\n",
            "Epoch 37 ; Loss 0.9771094918251038\n",
            "Epoch 38 ; Loss 0.9779313206672668\n",
            "Epoch 39 ; Loss 0.9762117266654968\n",
            "Epoch 40 ; Loss 0.9747759103775024\n",
            "Epoch 41 ; Loss 0.9730390310287476\n",
            "Epoch 42 ; Loss 0.9733763337135315\n",
            "Epoch 43 ; Loss 0.9706023931503296\n",
            "Epoch 44 ; Loss 0.9709320664405823\n",
            "Epoch 45 ; Loss 0.9701029658317566\n",
            "Epoch 46 ; Loss 0.9689176678657532\n",
            "Epoch 47 ; Loss 0.9683919548988342\n",
            "Epoch 48 ; Loss 0.9684609770774841\n",
            "Epoch 49 ; Loss 0.9668676257133484\n",
            "Epoch 50 ; Loss 0.9668805003166199\n",
            "Epoch 51 ; Loss 0.9663693904876709\n",
            "Epoch 52 ; Loss 0.9654990434646606\n",
            "Epoch 53 ; Loss 0.9652814269065857\n",
            "Epoch 54 ; Loss 0.9648733735084534\n",
            "Epoch 55 ; Loss 0.9645643830299377\n",
            "Epoch 56 ; Loss 0.9639315009117126\n",
            "Epoch 57 ; Loss 0.9638237357139587\n",
            "Epoch 58 ; Loss 0.9634838104248047\n",
            "Epoch 59 ; Loss 0.9628199338912964\n",
            "Epoch 60 ; Loss 0.9627529978752136\n",
            "Epoch 61 ; Loss 0.9624017477035522\n",
            "Epoch 62 ; Loss 0.9619430303573608\n",
            "Epoch 63 ; Loss 0.9617699384689331\n",
            "Epoch 64 ; Loss 0.9614624381065369\n",
            "Epoch 65 ; Loss 0.9611591696739197\n",
            "Epoch 66 ; Loss 0.9609084129333496\n",
            "Epoch 67 ; Loss 0.9606629610061646\n",
            "Epoch 68 ; Loss 0.9604212641716003\n",
            "Epoch 69 ; Loss 0.9601704478263855\n",
            "Epoch 70 ; Loss 0.9599199891090393\n",
            "Epoch 71 ; Loss 0.9596949219703674\n",
            "Epoch 72 ; Loss 0.9594823718070984\n",
            "Epoch 73 ; Loss 0.9592568874359131\n",
            "Epoch 74 ; Loss 0.9590058922767639\n",
            "Epoch 75 ; Loss 0.9587950706481934\n",
            "Epoch 76 ; Loss 0.9586164355278015\n",
            "Epoch 77 ; Loss 0.9583545327186584\n",
            "Epoch 78 ; Loss 0.9580656290054321\n",
            "Epoch 79 ; Loss 0.957852840423584\n",
            "Epoch 80 ; Loss 0.9576544165611267\n",
            "Epoch 81 ; Loss 0.9574309587478638\n",
            "Epoch 82 ; Loss 0.9572144150733948\n",
            "Epoch 83 ; Loss 0.9570287466049194\n",
            "Epoch 84 ; Loss 0.9568641185760498\n",
            "Epoch 85 ; Loss 0.9567063450813293\n",
            "Epoch 86 ; Loss 0.9565450549125671\n",
            "Epoch 87 ; Loss 0.9564028382301331\n",
            "Epoch 88 ; Loss 0.9562845826148987\n",
            "Epoch 89 ; Loss 0.956153392791748\n",
            "Epoch 90 ; Loss 0.9560189247131348\n",
            "Epoch 91 ; Loss 0.9559081196784973\n",
            "Epoch 92 ; Loss 0.9557862281799316\n",
            "Epoch 93 ; Loss 0.9556489586830139\n",
            "Epoch 94 ; Loss 0.9555253386497498\n",
            "Epoch 95 ; Loss 0.9554205536842346\n",
            "Epoch 96 ; Loss 0.9553301334381104\n",
            "Epoch 97 ; Loss 0.9552469253540039\n",
            "Epoch 98 ; Loss 0.955169677734375\n",
            "Epoch 99 ; Loss 0.9551121592521667\n",
            "Epoch 100 ; Loss 0.9550612568855286\n"
          ]
        }
      ]
    },
    {
      "cell_type": "code",
      "source": [
        "def softmax_accuracy(probs, labels):\n",
        "    \"\"\"\n",
        "    Calculate the accuracy of predictions given softmax probabilities and true labels.\n",
        "\n",
        "    Parameters:\n",
        "    probs (torch.Tensor): A tensor of shape (batch_size, num_classes) with softmax probabilities.\n",
        "    labels (torch.Tensor): A tensor of shape (batch_size,) with true labels.\n",
        "\n",
        "    Returns:\n",
        "    float: The accuracy of the predictions.\n",
        "    \"\"\"\n",
        "    # Convert softmax probabilities to predicted class labels\n",
        "    _, predicted_labels = torch.max(probs, 1)\n",
        "\n",
        "    # Compare predicted labels to true labels\n",
        "    correct_predictions = (predicted_labels == labels).sum().item()\n",
        "\n",
        "    # Calculate accuracy\n",
        "    accuracy = correct_predictions / labels.size(0)\n",
        "\n",
        "    return accuracy"
      ],
      "metadata": {
        "id": "L__ReW4KZlGY"
      },
      "id": "L__ReW4KZlGY",
      "execution_count": 76,
      "outputs": []
    },
    {
      "cell_type": "code",
      "source": [
        "softmax_accuracy(pcn(X_train.float()), y_train)"
      ],
      "metadata": {
        "colab": {
          "base_uri": "https://localhost:8080/"
        },
        "id": "1fXyZU55csL-",
        "outputId": "2962c507-f177-48ef-de0f-4073fb5aee85"
      },
      "id": "1fXyZU55csL-",
      "execution_count": 79,
      "outputs": [
        {
          "output_type": "execute_result",
          "data": {
            "text/plain": [
              "0.94925"
            ]
          },
          "metadata": {},
          "execution_count": 79
        }
      ]
    },
    {
      "cell_type": "code",
      "source": [
        "softmax_accuracy(pcn(X_test.float()), y_test)"
      ],
      "metadata": {
        "colab": {
          "base_uri": "https://localhost:8080/"
        },
        "id": "-HcHvBevcwXI",
        "outputId": "b94f6c55-27e2-4899-cd2e-6420abf966a5"
      },
      "id": "-HcHvBevcwXI",
      "execution_count": 80,
      "outputs": [
        {
          "output_type": "execute_result",
          "data": {
            "text/plain": [
              "0.939"
            ]
          },
          "metadata": {},
          "execution_count": 80
        }
      ]
    },
    {
      "cell_type": "code",
      "source": [],
      "metadata": {
        "id": "Zvwhc3oJdKY3"
      },
      "id": "Zvwhc3oJdKY3",
      "execution_count": 78,
      "outputs": []
    }
  ],
  "metadata": {
    "kernelspec": {
      "display_name": "Python 3",
      "name": "python3"
    },
    "language_info": {
      "codemirror_mode": {
        "name": "ipython",
        "version": 3
      },
      "file_extension": ".py",
      "mimetype": "text/x-python",
      "name": "python",
      "nbconvert_exporter": "python",
      "pygments_lexer": "ipython3",
      "version": "3.9.6"
    },
    "colab": {
      "provenance": [],
      "machine_shape": "hm",
      "gpuType": "V28"
    },
    "accelerator": "TPU"
  },
  "nbformat": 4,
  "nbformat_minor": 5
}